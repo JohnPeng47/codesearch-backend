{
 "cells": [
  {
   "cell_type": "code",
   "execution_count": 13,
   "metadata": {},
   "outputs": [
    {
     "name": "stdout",
     "output_type": "stream",
     "text": [
      "The autoreload extension is already loaded. To reload it, use:\n",
      "  %reload_ext autoreload\n",
      "Saving chunks to file:  C:\\Users\\jpeng\\AppData\\Local\\Temp\\index\\ell\n",
      "[Chunker]: 212 chunks used\n",
      "Saving chunks to file:  C:\\Users\\jpeng\\AppData\\Local\\Temp\\index\\ell\n",
      "[Chunker]: 212 chunks used\n"
     ]
    }
   ],
   "source": [
    "%load_ext autoreload\n",
    "%autoreload 2\n",
    "import sys\n",
    "sys.path.append(\"../../../\")\n",
    "\n",
    "from src.cluster.chunk_repo import ChunkStrat\n",
    "from pathlib import Path\n",
    "\n",
    "from src.cluster.cluster_v2 import ClusterStrategy\n",
    "from src.cluster.lmp.cluster_v4 import generate_clusters\n",
    "from src.chunk.chunk import chunk_repo, ChunkStrat\n",
    "\n",
    "repo_name = \"ell\"\n",
    "repo_path = Path(\"src/cluster/repos\") / repo_name\n",
    "\n",
    "chunks = chunk_repo(repo_path, ChunkStrat.VANILLA)\n",
    "# chunks_summarized = chunk_repo(repo_path, ChunkStrat.SUMMARY)\n",
    "chunks_random = chunk_repo(repo_path, ChunkStrat.RANDOM)\n",
    "\n",
    "chunk_strat = ClusterStrategy(chunks, \n",
    "                              cluster_op=generate_clusters,\n",
    "                              max_iters=1)\n",
    "# summarized_strat = ClusterStrategy(chunks_summarized,\n",
    "#                                    cluster_op=generate_clusters,\n",
    "#                                    max_iters=1)\n",
    "random_strat = ClusterStrategy(chunks_random,\n",
    "                                 cluster_op=generate_clusters,\n",
    "                                 max_iters=1)"
   ]
  },
  {
   "cell_type": "code",
   "execution_count": 5,
   "metadata": {},
   "outputs": [
    {
     "name": "stdout",
     "output_type": "stream",
     "text": [
      "Chunk Name: providers\\openai.py::3 hallucinated, skipping...\n",
      "Iteration 1 statistics:\n",
      "Unclassified chunks: 0 / 0\n",
      "Unique chunks: 37\n",
      "Total clustered chunks: 48\n"
     ]
    }
   ],
   "source": [
    "vanilla_clusters = chunk_strat.run()\n"
   ]
  },
  {
   "cell_type": "code",
   "execution_count": 15,
   "metadata": {},
   "outputs": [
    {
     "name": "stdout",
     "output_type": "stream",
     "text": [
      "Chunk Name: openai_realtime\\_init__.py::1 hallucinated, skipping...\n",
      "Iteration 1 statistics:\n",
      "Unclassified chunks: 0 / 0\n",
      "Unique chunks: 45\n",
      "Total clustered chunks: 53\n"
     ]
    }
   ],
   "source": [
    "random_clusters = random_strat.run()"
   ]
  },
  {
   "cell_type": "code",
   "execution_count": 7,
   "metadata": {},
   "outputs": [
    {
     "name": "stdout",
     "output_type": "stream",
     "text": [
      "10\n"
     ]
    }
   ],
   "source": [
    "print(len(vanilla_clusters))"
   ]
  },
  {
   "cell_type": "code",
   "execution_count": 20,
   "metadata": {},
   "outputs": [],
   "source": [
    "from src.llm.evals.eval_cluster import eval_coherence_clusters\n",
    "\n",
    "# fullcode_score = eval_coherence_clusters(vanilla_clusters, 1, \"fullcode\", repo_name)\n",
    "random_score = eval_coherence_clusters(random_clusters, \"random\", repo_name)"
   ]
  },
  {
   "cell_type": "code",
   "execution_count": 19,
   "metadata": {},
   "outputs": [
    {
     "name": "stdout",
     "output_type": "stream",
     "text": [
      "(13.818181818181818, 0.0)\n"
     ]
    }
   ],
   "source": [
    "print(random_score)"
   ]
  }
 ],
 "metadata": {
  "kernelspec": {
   "display_name": ".venv",
   "language": "python",
   "name": "python3"
  },
  "language_info": {
   "codemirror_mode": {
    "name": "ipython",
    "version": 3
   },
   "file_extension": ".py",
   "mimetype": "text/x-python",
   "name": "python",
   "nbconvert_exporter": "python",
   "pygments_lexer": "ipython3",
   "version": "3.10.11"
  }
 },
 "nbformat": 4,
 "nbformat_minor": 2
}
