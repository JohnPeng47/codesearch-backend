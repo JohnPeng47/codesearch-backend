{
 "cells": [
  {
   "cell_type": "code",
   "execution_count": 3,
   "metadata": {},
   "outputs": [
    {
     "name": "stdout",
     "output_type": "stream",
     "text": [
      "The autoreload extension is already loaded. To reload it, use:\n",
      "  %reload_ext autoreload\n"
     ]
    },
    {
     "name": "stderr",
     "output_type": "stream",
     "text": [
      "c:\\Users\\jpeng\\Documents\\projects\\codesearch-backend\\.venv\\lib\\site-packages\\starlette\\config.py:66: UserWarning: Config file '.env' not found.\n",
      "  warnings.warn(f\"Config file '{env_file}' not found.\")\n"
     ]
    }
   ],
   "source": [
    "%load_ext autoreload\n",
    "%autoreload 2\n",
    "from pathlib import Path\n",
    "import sys\n",
    "from typing import List, Tuple\n",
    "\n",
    "sys.path.append(\"../../\")\n",
    "from src.cluster.cluster import (\n",
    "    generate_full_code_clusters, \n",
    "    generate_summarized_clusters,\n",
    "    generate_graph_clusters,\n",
    "    generate_random_clusters\n",
    ")\n",
    "\n",
    "\n",
    "from src.cluster.types import (\n",
    "    CodeChunk,\n",
    "    SummaryChunk,\n",
    "    ClusterInput,\n",
    "    ClusteredTopic,\n",
    "    ClusterInputType,\n",
    "    LMClusteredTopicList\n",
    ")\n",
    "\n",
    "from src.cluster.chunk_repo import ChunkStrat\n",
    "\n",
    "# repo_name = \"ell\"\n",
    "repo_name = \"ell\"\n",
    "repo_path = Path(\"../../src/cluster/repos\") / repo_name\n"
   ]
  }
 ],
 "metadata": {
  "kernelspec": {
   "display_name": ".venv",
   "language": "python",
   "name": "python3"
  },
  "language_info": {
   "codemirror_mode": {
    "name": "ipython",
    "version": 3
   },
   "file_extension": ".py",
   "mimetype": "text/x-python",
   "name": "python",
   "nbconvert_exporter": "python",
   "pygments_lexer": "ipython3",
   "version": "3.10.11"
  }
 },
 "nbformat": 4,
 "nbformat_minor": 2
}
