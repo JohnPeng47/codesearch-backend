{
 "cells": [
  {
   "cell_type": "code",
   "execution_count": 1,
   "metadata": {},
   "outputs": [],
   "source": [
    "%load_ext autoreload\n",
    "%autoreload 2\n",
    "\n",
    "from rtfs.chunk_resolution.chunk_graph import ChunkGraph\n",
    "from src.config import GRAPH_ROOT\n",
    "import json\n",
    "\n",
    "# AIDER\n",
    "# repo_path = r\"C:\\Users\\jpeng\\Documents\\projects\\codesearch-backend\\src\\cluster\\repos\\aider\"\n",
    "# graph_path = GRAPH_ROOT / \"Aider-AI_aider.git\"\n",
    "\n",
    "# graph_json = json.loads(open(graph_path, \"r\").read())\n",
    "# cg = ChunkGraph.from_json(graph_path, graph_json)\n",
    "\n",
    "# MOATLESS\n",
    "repo_path = r\"C:\\Users\\jpeng\\Documents\\projects\\codesearch-backend\\src\\cluster\\repos\\moatless-tools\"\n",
    "graph_path = GRAPH_ROOT / \"aorwall_moatless-tools\"\n",
    "\n",
    "graph_json = json.loads(open(graph_path, \"r\").read())\n",
    "cg = ChunkGraph.from_json(graph_path, graph_json)"
   ]
  },
  {
   "cell_type": "code",
   "execution_count": 2,
   "metadata": {},
   "outputs": [
    {
     "name": "stdout",
     "output_type": "stream",
     "text": [
      "Automated Code Evaluation and Transition System 37\n",
      "Automated Code Evaluation and Transition Management 8\n",
      "Automated Code Change Management System 16\n",
      "Dynamic State Management and Trajectory Loading 3\n",
      "Automated Code Evaluation and Reporting System 17\n",
      "Evaluation and Reporting System 3\n",
      "Automated Code Review and Reporting System 11\n",
      "Code Transition and Span Analysis 6\n",
      "Code Block Parsing and Management System 30\n",
      "Code Parsing and Analysis Framework 8\n",
      "Code Verification and Context Management System 6\n",
      "Code Change Clarification and Token Management 7\n",
      "Automated Code Review and Modification System 9\n",
      "Repository Setup and Management 2\n",
      "File Content Update and Logging System 2\n",
      "Code Search and Ranking System 2\n",
      "Search Code Execution and System Prompt Configuration 2\n",
      "Code Indexing and Vector Storage System 6\n",
      "Advanced Code Search and Indexing 7\n",
      "Code Vector Search and Snippet Management 2\n",
      "Code Reference and Relationship Management 3\n",
      "Code Block Tree Representation and Highlighting 2\n",
      "Code Node Hashing and Epic Splitting 2\n"
     ]
    }
   ],
   "source": [
    "clusters = cg.get_clusters(return_content=True)\n",
    "one_lvl = [c for cluster in clusters for c in cluster.children]\n",
    "for c in one_lvl:\n",
    "    # print(c.to_str())\n",
    "    print(c.title, len(c.chunks))\n",
    "    # print(c.summary)\n"
   ]
  },
  {
   "cell_type": "code",
   "execution_count": 3,
   "metadata": {},
   "outputs": [
    {
     "name": "stdout",
     "output_type": "stream",
     "text": [
      "Total edges:  39\n"
     ]
    }
   ],
   "source": [
    "# IMPORTANT!!!!!!!!\n",
    "# NOTE: currently we are using DiGraph but should switch to MultiDiGraph\n",
    "cg.build_cluster_edges()"
   ]
  },
  {
   "cell_type": "code",
   "execution_count": 4,
   "metadata": {},
   "outputs": [
    {
     "ename": "",
     "evalue": "",
     "output_type": "error",
     "traceback": [
      "\u001b[1;31mThe Kernel crashed while executing code in the current cell or a previous cell. \n",
      "\u001b[1;31mPlease review the code in the cell(s) to identify a possible cause of the failure. \n",
      "\u001b[1;31mClick <a href='https://aka.ms/vscodeJupyterKernelCrash'>here</a> for more info. \n",
      "\u001b[1;31mView Jupyter <a href='command:jupyter.viewOutput'>log</a> for further details."
     ]
    }
   ],
   "source": [
    "paths = cg.get_longest_path()\n",
    "print([len(paths)])"
   ]
  },
  {
   "cell_type": "code",
   "execution_count": 29,
   "metadata": {},
   "outputs": [
    {
     "name": "stdout",
     "output_type": "stream",
     "text": [
      "8\n"
     ]
    }
   ],
   "source": [
    "print(len(paths[0]))"
   ]
  },
  {
   "cell_type": "code",
   "execution_count": 33,
   "metadata": {},
   "outputs": [],
   "source": [
    "matched_paths = [p for p in paths if p.find_cluster(\"Code Indexing and Vector Storage System\")]"
   ]
  },
  {
   "cell_type": "code",
   "execution_count": 34,
   "metadata": {},
   "outputs": [
    {
     "ename": "AttributeError",
     "evalue": "'ChunkNode' object has no attribute 'name'",
     "output_type": "error",
     "traceback": [
      "\u001b[1;31m---------------------------------------------------------------------------\u001b[0m",
      "\u001b[1;31mAttributeError\u001b[0m                            Traceback (most recent call last)",
      "Cell \u001b[1;32mIn[34], line 1\u001b[0m\n\u001b[1;32m----> 1\u001b[0m \u001b[38;5;28mprint\u001b[39m(\u001b[43mmatched_paths\u001b[49m\u001b[43m[\u001b[49m\u001b[38;5;241;43m0\u001b[39;49m\u001b[43m]\u001b[49m\u001b[38;5;241;43m.\u001b[39;49m\u001b[43mto_str\u001b[49m\u001b[43m(\u001b[49m\u001b[43mverbose\u001b[49m\u001b[38;5;241;43m=\u001b[39;49m\u001b[38;5;28;43;01mTrue\u001b[39;49;00m\u001b[43m)\u001b[49m)\n",
      "File \u001b[1;32mc:\\Users\\jpeng\\Documents\\projects\\codesearch-backend\\rtfs\\cluster\\path.py:50\u001b[0m, in \u001b[0;36mClusterPath.to_str\u001b[1;34m(self, verbose)\u001b[0m\n\u001b[0;32m     48\u001b[0m \u001b[38;5;66;03m# Add each destination cluster\u001b[39;00m\n\u001b[0;32m     49\u001b[0m \u001b[38;5;28;01mfor\u001b[39;00m segment \u001b[38;5;129;01min\u001b[39;00m \u001b[38;5;28mself\u001b[39m\u001b[38;5;241m.\u001b[39msegments:\n\u001b[1;32m---> 50\u001b[0m     path_str \u001b[38;5;241m+\u001b[39m\u001b[38;5;241m=\u001b[39m \u001b[38;5;124mf\u001b[39m\u001b[38;5;124m\"\u001b[39m\u001b[38;5;130;01m\\n\u001b[39;00m\u001b[38;5;124m(\u001b[39m\u001b[38;5;132;01m{\u001b[39;00mprev_segment\u001b[38;5;241m.\u001b[39mref\u001b[38;5;132;01m}\u001b[39;00m\u001b[38;5;124m) -> [\u001b[39m\u001b[38;5;132;01m{\u001b[39;00m\u001b[43mprev_segment\u001b[49m\u001b[38;5;241;43m.\u001b[39;49m\u001b[43mdst_node\u001b[49m\u001b[38;5;241;43m.\u001b[39;49m\u001b[43mname\u001b[49m\u001b[38;5;132;01m}\u001b[39;00m\u001b[38;5;124m] \u001b[39m\u001b[38;5;132;01m{\u001b[39;00msegment\u001b[38;5;241m.\u001b[39mdst_cluster\u001b[38;5;241m.\u001b[39mtitle\u001b[38;5;132;01m}\u001b[39;00m\u001b[38;5;124m\"\u001b[39m\n\u001b[0;32m     51\u001b[0m     prev_segment \u001b[38;5;241m=\u001b[39m segment\n\u001b[0;32m     53\u001b[0m \u001b[38;5;28;01mreturn\u001b[39;00m path_str\n",
      "\u001b[1;31mAttributeError\u001b[0m: 'ChunkNode' object has no attribute 'name'"
     ]
    }
   ],
   "source": [
    "print(matched_paths[0].to_str(verbose=True))"
   ]
  },
  {
   "cell_type": "markdown",
   "metadata": {},
   "source": []
  }
 ],
 "metadata": {
  "kernelspec": {
   "display_name": ".venv",
   "language": "python",
   "name": "python3"
  },
  "language_info": {
   "codemirror_mode": {
    "name": "ipython",
    "version": 3
   },
   "file_extension": ".py",
   "mimetype": "text/x-python",
   "name": "python",
   "nbconvert_exporter": "python",
   "pygments_lexer": "ipython3",
   "version": "3.10.11"
  }
 },
 "nbformat": 4,
 "nbformat_minor": 2
}
