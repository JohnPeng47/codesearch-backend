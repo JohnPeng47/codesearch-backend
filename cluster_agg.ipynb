{
 "cells": [
  {
   "cell_type": "code",
   "execution_count": 1,
   "metadata": {},
   "outputs": [],
   "source": [
    "%load_ext autoreload\n",
    "%autoreload 2\n",
    "from pathlib import Path\n",
    "import sys\n",
    "from typing import List, Tuple\n",
    "\n",
    "sys.path.append(\"../../\")\n",
    "from src.cluster.cluster import (\n",
    "    generate_full_code_clusters, \n",
    "    generate_summarized_clusters,\n",
    "    generate_graph_clusters,\n",
    "    generate_random_clusters\n",
    ")\n",
    "\n",
    "\n",
    "from src.cluster.types import (\n",
    "    CodeChunk,\n",
    "    SummaryChunk,\n",
    "    ClusterInput,\n",
    "    ClusteredTopic,\n",
    "    ClusterInputType,\n",
    "    LMClusteredTopicList\n",
    ")\n",
    "\n",
    "from src.cluster.chunk_repo import ChunkStrat\n",
    "\n",
    "# repo_name = \"ell\"\n",
    "repo_name = \"ell\"\n",
    "repo_path = Path(\"../../src/cluster/repos\") / repo_name\n"
   ]
  },
  {
   "cell_type": "code",
   "execution_count": null,
   "metadata": {},
   "outputs": [],
   "source": []
  }
 ],
 "metadata": {
  "kernelspec": {
   "display_name": ".venv",
   "language": "python",
   "name": "python3"
  },
  "language_info": {
   "codemirror_mode": {
    "name": "ipython",
    "version": 3
   },
   "file_extension": ".py",
   "mimetype": "text/x-python",
   "name": "python",
   "nbconvert_exporter": "python",
   "pygments_lexer": "ipython3",
   "version": "3.10.11"
  }
 },
 "nbformat": 4,
 "nbformat_minor": 2
}
