{
 "cells": [
  {
   "cell_type": "code",
   "execution_count": 16,
   "metadata": {},
   "outputs": [
    {
     "name": "stderr",
     "output_type": "stream",
     "text": [
      "/home/ubuntu/cowboy-server-good/src/test_modules/models.py:18: SAWarning: This declarative base already contains a class with the same class name and module name as src.test_modules.models.TargetCodeModel, and will be replaced in the string-lookup table.\n",
      "  class TargetCodeModel(Base):\n",
      "[autoreload of src.test_modules.models failed: Traceback (most recent call last):\n",
      "  File \"/home/ubuntu/.local/lib/python3.12/site-packages/IPython/extensions/autoreload.py\", line 276, in check\n",
      "    superreload(m, reload, self.old_objects)\n",
      "  File \"/home/ubuntu/.local/lib/python3.12/site-packages/IPython/extensions/autoreload.py\", line 475, in superreload\n",
      "    module = reload(module)\n",
      "             ^^^^^^^^^^^^^^\n",
      "  File \"/usr/lib/python3.12/importlib/__init__.py\", line 131, in reload\n",
      "    _bootstrap._exec(spec, module)\n",
      "  File \"<frozen importlib._bootstrap>\", line 866, in _exec\n",
      "  File \"<frozen importlib._bootstrap_external>\", line 995, in exec_module\n",
      "  File \"<frozen importlib._bootstrap>\", line 488, in _call_with_frames_removed\n",
      "  File \"/home/ubuntu/cowboy-server-good/src/test_modules/models.py\", line 18, in <module>\n",
      "    class TargetCodeModel(Base):\n",
      "  File \"/home/ubuntu/.local/lib/python3.12/site-packages/sqlalchemy/orm/decl_api.py\", line 196, in __init__\n",
      "    _as_declarative(reg, cls, dict_)\n",
      "  File \"/home/ubuntu/.local/lib/python3.12/site-packages/sqlalchemy/orm/decl_base.py\", line 244, in _as_declarative\n",
      "    return _MapperConfig.setup_mapping(registry, cls, dict_, None, {})\n",
      "           ^^^^^^^^^^^^^^^^^^^^^^^^^^^^^^^^^^^^^^^^^^^^^^^^^^^^^^^^^^^\n",
      "  File \"/home/ubuntu/.local/lib/python3.12/site-packages/sqlalchemy/orm/decl_base.py\", line 325, in setup_mapping\n",
      "    return _ClassScanMapperConfig(\n",
      "           ^^^^^^^^^^^^^^^^^^^^^^^\n",
      "sqlalchemy.exc.InvalidRequestError: Table 'target_code' is already defined for this MetaData instance.  Specify 'extend_existing=True' to redefine options and columns on an existing Table object.\n",
      "]\n"
     ]
    },
    {
     "name": "stdout",
     "output_type": "stream",
     "text": [
      "Serializing code ..\n",
      "Serializing code ..\n",
      "Serializing code ..\n",
      "Serializing code ..\n",
      "LINES:  None\n"
     ]
    },
    {
     "name": "stderr",
     "output_type": "stream",
     "text": [
      "<unknown>:15: SyntaxWarning: invalid escape sequence '\\/'\n",
      "<unknown>:30: SyntaxWarning: invalid escape sequence '\\/'\n",
      "<unknown>:31: SyntaxWarning: invalid escape sequence '\\/'\n",
      "<unknown>:32: SyntaxWarning: invalid escape sequence '\\/'\n",
      "<unknown>:33: SyntaxWarning: invalid escape sequence '\\.'\n",
      "<unknown>:42: SyntaxWarning: invalid escape sequence '\\/'\n"
     ]
    },
    {
     "ename": "TypeError",
     "evalue": "'NoneType' object is not iterable",
     "output_type": "error",
     "traceback": [
      "\u001b[0;31m---------------------------------------------------------------------------\u001b[0m",
      "\u001b[0;31mTypeError\u001b[0m                                 Traceback (most recent call last)",
      "Cell \u001b[0;32mIn[16], line 25\u001b[0m\n\u001b[1;32m     23\u001b[0m tm \u001b[38;5;241m=\u001b[39m tm\u001b[38;5;241m.\u001b[39mserialize(src_repo)\n\u001b[1;32m     24\u001b[0m \u001b[38;5;28;01mif\u001b[39;00m tm\u001b[38;5;241m.\u001b[39mchunks:\n\u001b[0;32m---> 25\u001b[0m     \u001b[38;5;28mprint\u001b[39m(\u001b[43mtm\u001b[49m\u001b[38;5;241;43m.\u001b[39;49m\u001b[43mprint_chunks\u001b[49m\u001b[43m(\u001b[49m\u001b[43m)\u001b[49m)\n",
      "File \u001b[0;32m~/cowboy-server-good/cowboy_lib/test_modules/test_module.py:185\u001b[0m, in \u001b[0;36mTestModule.print_chunks\u001b[0;34m(self)\u001b[0m\n\u001b[1;32m    183\u001b[0m         curr_file \u001b[38;5;241m=\u001b[39m c\u001b[38;5;241m.\u001b[39mfilepath\u001b[38;5;241m.\u001b[39mname\n\u001b[1;32m    184\u001b[0m         \u001b[38;5;28mrepr\u001b[39m \u001b[38;5;241m+\u001b[39m\u001b[38;5;241m=\u001b[39m \u001b[38;5;124mf\u001b[39m\u001b[38;5;124m\"\u001b[39m\u001b[38;5;124mFile: \u001b[39m\u001b[38;5;132;01m{\u001b[39;00mc\u001b[38;5;241m.\u001b[39mfilepath\u001b[38;5;241m.\u001b[39mname\u001b[38;5;132;01m}\u001b[39;00m\u001b[38;5;130;01m\\n\u001b[39;00m\u001b[38;5;124m\"\u001b[39m\n\u001b[0;32m--> 185\u001b[0m     \u001b[38;5;28mrepr\u001b[39m \u001b[38;5;241m+\u001b[39m\u001b[38;5;241m=\u001b[39m \u001b[43mc\u001b[49m\u001b[38;5;241;43m.\u001b[39;49m\u001b[43mto_lines\u001b[49m\u001b[43m(\u001b[49m\u001b[43m)\u001b[49m\n\u001b[1;32m    186\u001b[0m \u001b[38;5;28;01mreturn\u001b[39;00m \u001b[38;5;28mrepr\u001b[39m\n",
      "File \u001b[0;32m~/cowboy-server-good/cowboy_lib/test_modules/target_code.py:40\u001b[0m, in \u001b[0;36mTargetCode.to_lines\u001b[0;34m(self)\u001b[0m\n\u001b[1;32m     38\u001b[0m \u001b[38;5;28mprint\u001b[39m(\u001b[38;5;124m\"\u001b[39m\u001b[38;5;124mLINES: \u001b[39m\u001b[38;5;124m\"\u001b[39m, \u001b[38;5;28mself\u001b[39m\u001b[38;5;241m.\u001b[39mlines)\n\u001b[1;32m     39\u001b[0m \u001b[38;5;28mrepr\u001b[39m \u001b[38;5;241m=\u001b[39m \u001b[38;5;124m\"\u001b[39m\u001b[38;5;124m\"\u001b[39m\n\u001b[0;32m---> 40\u001b[0m \u001b[38;5;28;01mfor\u001b[39;00m i, line \u001b[38;5;129;01min\u001b[39;00m \u001b[38;5;28;43mzip\u001b[39;49m\u001b[43m(\u001b[49m\u001b[38;5;28;43mrange\u001b[39;49m\u001b[43m(\u001b[49m\u001b[38;5;28;43mself\u001b[39;49m\u001b[38;5;241;43m.\u001b[39;49m\u001b[43mrange\u001b[49m\u001b[43m[\u001b[49m\u001b[38;5;241;43m0\u001b[39;49m\u001b[43m]\u001b[49m\u001b[43m,\u001b[49m\u001b[43m \u001b[49m\u001b[38;5;28;43mself\u001b[39;49m\u001b[38;5;241;43m.\u001b[39;49m\u001b[43mrange\u001b[49m\u001b[43m[\u001b[49m\u001b[38;5;241;43m1\u001b[39;49m\u001b[43m]\u001b[49m\u001b[43m \u001b[49m\u001b[38;5;241;43m+\u001b[39;49m\u001b[43m \u001b[49m\u001b[38;5;241;43m1\u001b[39;49m\u001b[43m)\u001b[49m\u001b[43m,\u001b[49m\u001b[43m \u001b[49m\u001b[38;5;28;43mself\u001b[39;49m\u001b[38;5;241;43m.\u001b[39;49m\u001b[43mlines\u001b[49m\u001b[43m)\u001b[49m:\n\u001b[1;32m     41\u001b[0m     \u001b[38;5;28mrepr\u001b[39m \u001b[38;5;241m+\u001b[39m\u001b[38;5;241m=\u001b[39m \u001b[38;5;124mf\u001b[39m\u001b[38;5;124m\"\u001b[39m\u001b[38;5;132;01m{\u001b[39;00mi\u001b[38;5;132;01m}\u001b[39;00m\u001b[38;5;124m. \u001b[39m\u001b[38;5;132;01m{\u001b[39;00mline\u001b[38;5;132;01m}\u001b[39;00m\u001b[38;5;130;01m\\n\u001b[39;00m\u001b[38;5;124m\"\u001b[39m\n\u001b[1;32m     43\u001b[0m \u001b[38;5;28;01mreturn\u001b[39;00m \u001b[38;5;28mrepr\u001b[39m\n",
      "\u001b[0;31mTypeError\u001b[0m: 'NoneType' object is not iterable"
     ]
    }
   ],
   "source": [
    "%autoreload 2\n",
    "\n",
    "\n",
    "import sys\n",
    "sys.path.append(\"/home/ubuntu/cowboy-server-good\")\n",
    "\n",
    "from cowboy_lib.repo import SourceRepo\n",
    "from src.test_modules.service import get_all_tms\n",
    "\n",
    "from src.database.core import engine\n",
    "\n",
    "from sqlalchemy.orm import sessionmaker\n",
    "from pathlib import Path\n",
    "\n",
    "\n",
    "repo_path = \"/home/ubuntu/cowboy-server-good/repos/test8/mbvyvqlp\"\n",
    "src_repo = SourceRepo(Path(repo_path))\n",
    "Session = sessionmaker(bind=engine)\n",
    "db_session = Session()\n",
    "\n",
    "tms = get_all_tms(db_session=db_session, repo_id=7)\n",
    "for tm in tms:\n",
    "    tm = tm.serialize(src_repo)\n",
    "    if tm.chunks:\n",
    "        print(tm.print_chunks())\n"
   ]
  },
  {
   "cell_type": "code",
   "execution_count": null,
   "metadata": {},
   "outputs": [],
   "source": []
  }
 ],
 "metadata": {
  "kernelspec": {
   "display_name": "Python 3",
   "language": "python",
   "name": "python3"
  },
  "language_info": {
   "codemirror_mode": {
    "name": "ipython",
    "version": 3
   },
   "file_extension": ".py",
   "mimetype": "text/x-python",
   "name": "python",
   "nbconvert_exporter": "python",
   "pygments_lexer": "ipython3",
   "version": "3.12.3"
  }
 },
 "nbformat": 4,
 "nbformat_minor": 2
}
