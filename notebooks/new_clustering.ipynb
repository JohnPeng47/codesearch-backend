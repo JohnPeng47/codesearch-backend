{
 "cells": [
  {
   "cell_type": "code",
   "execution_count": 2,
   "metadata": {},
   "outputs": [
    {
     "name": "stdout",
     "output_type": "stream",
     "text": [
      "559\n"
     ]
    }
   ],
   "source": [
    "%load_ext autoreload\n",
    "%autoreload 2\n",
    "import sys\n",
    "\n",
    "sys.path.append(\"../\")\n",
    "import json\n",
    "from pathlib import Path\n",
    "from rtfs.chunk_resolution import ChunkGraph\n",
    "\n",
    "AIDER_IMPL = \"./repo_graph.json\"\n",
    "\n",
    "\n",
    "with open(AIDER_IMPL, \"r\") as f:\n",
    "    graph_dict = json.load(f)\n",
    "\n",
    "aider_cg = ChunkGraph.from_json(Path(AIDER_IMPL), graph_dict)\n",
    "nodes = aider_cg.filter_nodes({\"kind\": \"ChunkNode\"})\n",
    "print(len(nodes))\n"
   ]
  },
  {
   "cell_type": "code",
   "execution_count": null,
   "metadata": {},
   "outputs": [],
   "source": []
  }
 ],
 "metadata": {
  "kernelspec": {
   "display_name": ".venv",
   "language": "python",
   "name": "python3"
  },
  "language_info": {
   "codemirror_mode": {
    "name": "ipython",
    "version": 3
   },
   "file_extension": ".py",
   "mimetype": "text/x-python",
   "name": "python",
   "nbconvert_exporter": "python",
   "pygments_lexer": "ipython3",
   "version": "3.10.11"
  }
 },
 "nbformat": 4,
 "nbformat_minor": 2
}
