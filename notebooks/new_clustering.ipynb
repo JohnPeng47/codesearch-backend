{
 "cells": [
  {
   "cell_type": "code",
   "execution_count": 2,
   "metadata": {},
   "outputs": [
    {
     "name": "stdout",
     "output_type": "stream",
     "text": [
      "559\n"
     ]
    }
   ],
   "source": [
    "%load_ext autoreload\n",
    "%autoreload 2\n",
    "import sys\n",
    "\n",
    "sys.path.append(\"../\")\n",
    "import json\n",
    "from pathlib import Path\n",
    "from rtfs.chunk_resolution import ChunkGraph\n",
    "\n",
    "AIDER_IMPL = \"./repo_graph.json\"\n",
    "\n",
    "\n",
    "with open(AIDER_IMPL, \"r\") as f:\n",
    "    graph_dict = json.load(f)\n",
    "\n",
    "aider_cg = ChunkGraph.from_json(Path(AIDER_IMPL), graph_dict)\n",
    "nodes = aider_cg.filter_nodes({\"kind\": \"ChunkNode\"})\n",
    "print(len(nodes))\n"
   ]
  },
  {
   "cell_type": "code",
   "execution_count": 3,
   "metadata": {},
   "outputs": [],
   "source": [
    "from src.repo.graph import get_or_create_chunk_graph\n",
    "from src.index.service import get_or_create_index\n",
    "from rtfs.aider_graph.aider_graph import AiderGraph\n",
    "from rtfs.chunk_resolution.chunk_graph import ChunkGraph\n",
    "from rtfs.transforms.cluster import cluster\n",
    "\n",
    "\n",
    "REPO_NAME = \"JohnPeng47_codesearch-test.git\"\n",
    "\n",
    "REPO_PATH = Path(\"../../codesearch-data/repo\").resolve() / REPO_NAME\n",
    "INDEX_PATH = Path(\"../../codesearch-data/index\").resolve() / REPO_NAME\n",
    "GRAPH_PATH = Path(\"../../codesearch-data/graph\").resolve() / REPO_NAME\n",
    "\n",
    "code_index = get_or_create_index(REPO_PATH, INDEX_PATH)\n",
    "nodes = code_index._docstore.docs.values()\n",
    "\n",
    "cg = AiderGraph.from_chunks(REPO_PATH, nodes)\n",
    "cg_chunk = ChunkGraph.from_chunks(REPO_PATH, nodes)\n"
   ]
  },
  {
   "cell_type": "code",
   "execution_count": 4,
   "metadata": {},
   "outputs": [
    {
     "name": "stdout",
     "output_type": "stream",
     "text": [
      "- id: 14\n",
      "  title: ''\n",
      "  summary: ''\n",
      "  children: []\n",
      "- id: 4\n",
      "  title: ''\n",
      "  summary: ''\n",
      "  children: []\n",
      "- id: 8\n",
      "  title: ''\n",
      "  summary: ''\n",
      "  children: []\n",
      "- id: 3\n",
      "  title: ''\n",
      "  summary: ''\n",
      "  children: []\n",
      "- id: 5\n",
      "  title: ''\n",
      "  summary: ''\n",
      "  children: []\n",
      "- id: 11\n",
      "  title: ''\n",
      "  summary: ''\n",
      "  children: []\n",
      "- id: 6\n",
      "  title: ''\n",
      "  summary: ''\n",
      "  children: []\n",
      "- id: 7\n",
      "  title: ''\n",
      "  summary: ''\n",
      "  children: []\n",
      "- id: 2\n",
      "  title: ''\n",
      "  summary: ''\n",
      "  children: []\n",
      "- id: 15\n",
      "  title: ''\n",
      "  summary: ''\n",
      "  children: []\n",
      "- id: 1\n",
      "  title: ''\n",
      "  summary: ''\n",
      "  children: []\n",
      "- id: 9\n",
      "  title: ''\n",
      "  summary: ''\n",
      "  children: []\n",
      "- id: 12\n",
      "  title: ''\n",
      "  summary: ''\n",
      "  children: []\n",
      "- id: 13\n",
      "  title: ''\n",
      "  summary: ''\n",
      "  children: []\n",
      "- id: 16\n",
      "  title: ''\n",
      "  summary: ''\n",
      "  children: []\n",
      "- id: 10\n",
      "  title: ''\n",
      "  summary: ''\n",
      "  children: []\n",
      "\n"
     ]
    },
    {
     "ename": "MultipleNodesException",
     "evalue": "Multiple nodes found matching filter: {'kind': <NodeKind.Cluster: 'ClusterNode'>, 'title': ''}",
     "output_type": "error",
     "traceback": [
      "\u001b[1;31m---------------------------------------------------------------------------\u001b[0m",
      "\u001b[1;31mMultipleNodesException\u001b[0m                    Traceback (most recent call last)",
      "Cell \u001b[1;32mIn[4], line 7\u001b[0m\n\u001b[0;32m      4\u001b[0m cluster(cg_chunk)\n\u001b[0;32m      6\u001b[0m summarizer \u001b[38;5;241m=\u001b[39m Summarizer(cg_chunk)\n\u001b[1;32m----> 7\u001b[0m \u001b[43msummarizer\u001b[49m\u001b[38;5;241;43m.\u001b[39;49m\u001b[43mgen_categories\u001b[49m\u001b[43m(\u001b[49m\u001b[43m)\u001b[49m\n",
      "File \u001b[1;32mc:\\Users\\jpeng\\Documents\\projects\\codesearch-backend\\notebooks\\..\\rtfs\\summarize\\summarize.py:169\u001b[0m, in \u001b[0;36mSummarizer.gen_categories\u001b[1;34m(self)\u001b[0m\n\u001b[0;32m    166\u001b[0m         \u001b[38;5;28;01mraise\u001b[39;00m \u001b[38;5;167;01mException\u001b[39;00m(\u001b[38;5;124m\"\u001b[39m\u001b[38;5;124mFailed to generate categories\u001b[39m\u001b[38;5;124m\"\u001b[39m)\n\u001b[0;32m    168\u001b[0m \u001b[38;5;28;01mexcept\u001b[39;00m \u001b[38;5;167;01mException\u001b[39;00m \u001b[38;5;28;01mas\u001b[39;00m e:\n\u001b[1;32m--> 169\u001b[0m     \u001b[38;5;28;01mraise\u001b[39;00m e\n",
      "File \u001b[1;32mc:\\Users\\jpeng\\Documents\\projects\\codesearch-backend\\notebooks\\..\\rtfs\\summarize\\summarize.py:133\u001b[0m, in \u001b[0;36mSummarizer.gen_categories\u001b[1;34m(self)\u001b[0m\n\u001b[0;32m    129\u001b[0m     \u001b[38;5;28mself\u001b[39m\u001b[38;5;241m.\u001b[39mcode_graph\u001b[38;5;241m.\u001b[39madd_node(cluster_node)\n\u001b[0;32m    131\u001b[0m \u001b[38;5;28;01mfor\u001b[39;00m child \u001b[38;5;129;01min\u001b[39;00m category\u001b[38;5;241m.\u001b[39mchildren:\n\u001b[0;32m    132\u001b[0m     \u001b[38;5;66;03m# TODO: consider moving this function from chunkGraph to here\u001b[39;00m\n\u001b[1;32m--> 133\u001b[0m     child_node \u001b[38;5;241m=\u001b[39m \u001b[38;5;28;43mself\u001b[39;49m\u001b[38;5;241;43m.\u001b[39;49m\u001b[43mcode_graph\u001b[49m\u001b[38;5;241;43m.\u001b[39;49m\u001b[43mfind_node\u001b[49m\u001b[43m(\u001b[49m\n\u001b[0;32m    134\u001b[0m \u001b[43m        \u001b[49m\u001b[43m{\u001b[49m\u001b[38;5;124;43m\"\u001b[39;49m\u001b[38;5;124;43mkind\u001b[39;49m\u001b[38;5;124;43m\"\u001b[39;49m\u001b[43m:\u001b[49m\u001b[43m \u001b[49m\u001b[43mNodeKind\u001b[49m\u001b[38;5;241;43m.\u001b[39;49m\u001b[43mCluster\u001b[49m\u001b[43m,\u001b[49m\u001b[43m \u001b[49m\u001b[38;5;124;43m\"\u001b[39;49m\u001b[38;5;124;43mtitle\u001b[39;49m\u001b[38;5;124;43m\"\u001b[39;49m\u001b[43m:\u001b[49m\u001b[43m \u001b[49m\u001b[43mchild\u001b[49m\u001b[43m}\u001b[49m\n\u001b[0;32m    135\u001b[0m \u001b[43m    \u001b[49m\u001b[43m)\u001b[49m\n\u001b[0;32m    136\u001b[0m     \u001b[38;5;28;01mif\u001b[39;00m \u001b[38;5;129;01mnot\u001b[39;00m child_node:\n\u001b[0;32m    137\u001b[0m         \u001b[38;5;28mprint\u001b[39m(\u001b[38;5;124m\"\u001b[39m\u001b[38;5;124mChildnode not found: \u001b[39m\u001b[38;5;124m\"\u001b[39m, child)\n",
      "File \u001b[1;32mc:\\Users\\jpeng\\Documents\\projects\\codesearch-backend\\notebooks\\..\\rtfs\\graph.py:141\u001b[0m, in \u001b[0;36mCodeGraph.find_node\u001b[1;34m(self, node_filter)\u001b[0m\n\u001b[0;32m    138\u001b[0m     \u001b[38;5;28;01mreturn\u001b[39;00m \u001b[38;5;28;01mNone\u001b[39;00m\n\u001b[0;32m    140\u001b[0m \u001b[38;5;28;01mif\u001b[39;00m \u001b[38;5;28mlen\u001b[39m(filtered_nodes) \u001b[38;5;241m>\u001b[39m \u001b[38;5;241m1\u001b[39m:\n\u001b[1;32m--> 141\u001b[0m     \u001b[38;5;28;01mraise\u001b[39;00m MultipleNodesException(\n\u001b[0;32m    142\u001b[0m         \u001b[38;5;124mf\u001b[39m\u001b[38;5;124m\"\u001b[39m\u001b[38;5;124mMultiple nodes found matching filter: \u001b[39m\u001b[38;5;132;01m{\u001b[39;00mnode_filter\u001b[38;5;132;01m}\u001b[39;00m\u001b[38;5;124m\"\u001b[39m\n\u001b[0;32m    143\u001b[0m     )\n\u001b[0;32m    145\u001b[0m \u001b[38;5;28;01mreturn\u001b[39;00m filtered_nodes[\u001b[38;5;241m0\u001b[39m] \u001b[38;5;28;01mif\u001b[39;00m \u001b[38;5;28mlen\u001b[39m(filtered_nodes) \u001b[38;5;241m==\u001b[39m \u001b[38;5;241m1\u001b[39m \u001b[38;5;28;01melse\u001b[39;00m \u001b[38;5;28;01mNone\u001b[39;00m\n",
      "\u001b[1;31mMultipleNodesException\u001b[0m: Multiple nodes found matching filter: {'kind': <NodeKind.Cluster: 'ClusterNode'>, 'title': ''}"
     ]
    }
   ],
   "source": [
    "from rtfs.transforms.cluster import cluster\n",
    "from rtfs.summarize.summarize import Summarizer\n",
    "\n",
    "cluster(cg_chunk)\n",
    "\n",
    "summarizer = Summarizer(cg_chunk)\n",
    "summarizer.gen_categories()"
   ]
  },
  {
   "cell_type": "code",
   "execution_count": null,
   "metadata": {},
   "outputs": [],
   "source": []
  }
 ],
 "metadata": {
  "kernelspec": {
   "display_name": ".venv",
   "language": "python",
   "name": "python3"
  },
  "language_info": {
   "codemirror_mode": {
    "name": "ipython",
    "version": 3
   },
   "file_extension": ".py",
   "mimetype": "text/x-python",
   "name": "python",
   "nbconvert_exporter": "python",
   "pygments_lexer": "ipython3",
   "version": "3.10.11"
  }
 },
 "nbformat": 4,
 "nbformat_minor": 2
}
